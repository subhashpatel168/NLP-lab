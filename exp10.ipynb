{
 "cells": [
  {
   "cell_type": "code",
   "execution_count": 13,
   "metadata": {},
   "outputs": [],
   "source": [
    "import nltk\n",
    "from nltk import pos_tag\n",
    "from nltk.tokenize import word_tokenize\n",
    "from nltk.corpus import stopwords"
   ]
  },
  {
   "cell_type": "code",
   "execution_count": 14,
   "metadata": {},
   "outputs": [],
   "source": [
    "def pos_tagging(sentence):\n",
    "    words=word_tokenize(sentence)\n",
    "    stop_words=set(stopwords.words('english'))\n",
    "    words=[word for word in words if word.lower() not in stop_words]\n",
    "    pos_tags=pos_tag(words)\n",
    "    return pos_tags"
   ]
  },
  {
   "cell_type": "code",
   "execution_count": 21,
   "metadata": {},
   "outputs": [],
   "source": [
    "def main():\n",
    "    input_sentence=\"NLTK is a powerful library for natural language processing\"\n",
    "    pos_tags_result=pos_tagging(input_sentence)\n",
    "    print(\"Original Sentence:\")\n",
    "    print(input_sentence)\n",
    "    print(\"POS Tags:\")\n",
    "    print(pos_tags_result)"
   ]
  },
  {
   "cell_type": "code",
   "execution_count": 23,
   "metadata": {},
   "outputs": [
    {
     "name": "stdout",
     "output_type": "stream",
     "text": [
      "Original Sentence:\n",
      "NLTK is a powerful library for natural language processing\n",
      "POS Tags:\n",
      "[('NLTK', 'NNP'), ('powerful', 'JJ'), ('library', 'JJ'), ('natural', 'JJ'), ('language', 'NN'), ('processing', 'NN')]\n"
     ]
    }
   ],
   "source": [
    "if __name__==\"__main__\":\n",
    "    main()"
   ]
  }
 ],
 "metadata": {
  "kernelspec": {
   "display_name": "Python 3",
   "language": "python",
   "name": "python3"
  },
  "language_info": {
   "codemirror_mode": {
    "name": "ipython",
    "version": 3
   },
   "file_extension": ".py",
   "mimetype": "text/x-python",
   "name": "python",
   "nbconvert_exporter": "python",
   "pygments_lexer": "ipython3",
   "version": "3.11.1"
  }
 },
 "nbformat": 4,
 "nbformat_minor": 2
}
