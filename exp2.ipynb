{
 "cells": [
  {
   "cell_type": "code",
   "execution_count": 1,
   "metadata": {},
   "outputs": [],
   "source": [
    "import nltk\n",
    "from nltk.corpus import stopwords\n",
    "from nltk import FreqDist\n",
    "from nltk.tokenize import word_tokenize"
   ]
  },
  {
   "cell_type": "code",
   "execution_count": 2,
   "metadata": {},
   "outputs": [],
   "source": [
    "def most_frequent_words(text):\n",
    "    words = word_tokenize(text)\n",
    "    stop_words = set(stopwords.words('english'))\n",
    "    filtered_words=[word.lower() for word in words if word.isalpha() and word.lower() not in stop_words]\n",
    "    freq_dist = FreqDist(filtered_words)\n",
    "    most_frequent=freq_dist.most_common(50)\n",
    "    return most_frequent"
   ]
  },
  {
   "cell_type": "code",
   "execution_count": 3,
   "metadata": {},
   "outputs": [
    {
     "name": "stdout",
     "output_type": "stream",
     "text": [
      "50 most frequent words(excluding stop words):\n",
      "[('example', 1), ('contains', 1), ('words', 1), ('repeated', 1), ('simple', 1), ('text', 1)]\n"
     ]
    }
   ],
   "source": [
    "sample_text=\"this is an example text.It contains some words and some of them are repeated. It is a simple text.\"\n",
    "result=most_frequent_words(sample_text)\n",
    "print(\"50 most frequent words(excluding stop words):\")\n",
    "print(result)"
   ]
  }
 ],
 "metadata": {
  "kernelspec": {
   "display_name": "Python 3",
   "language": "python",
   "name": "python3"
  },
  "language_info": {
   "codemirror_mode": {
    "name": "ipython",
    "version": 3
   },
   "file_extension": ".py",
   "mimetype": "text/x-python",
   "name": "python",
   "nbconvert_exporter": "python",
   "pygments_lexer": "ipython3",
   "version": "3.11.1"
  }
 },
 "nbformat": 4,
 "nbformat_minor": 2
}
