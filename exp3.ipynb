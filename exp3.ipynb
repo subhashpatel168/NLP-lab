{
 "cells": [
  {
   "cell_type": "code",
   "execution_count": 1,
   "metadata": {},
   "outputs": [],
   "source": [
    "import nltk\n",
    "from nltk.corpus import stopwords\n",
    "from nltk import FreqDist\n",
    "from nltk import bigrams"
   ]
  },
  {
   "cell_type": "code",
   "execution_count": 2,
   "metadata": {},
   "outputs": [],
   "source": [
    "def get_frequent_bigrams(text,N:50):\n",
    "    words = nltk.word_tokenize(text)\n",
    "    stop_words = set(stopwords.words('english'))\n",
    "    filtered_bigrams = [bigram for bigram in bigrams(words) if all(word.lower() not in stop_words for word in bigram)]\n",
    "    freq_dist = FreqDist(filtered_bigrams)\n",
    "    most_common_bigrams = freq_dist.most_common(N)\n",
    "    return most_common_bigrams    "
   ]
  },
  {
   "cell_type": "code",
   "execution_count": 3,
   "metadata": {},
   "outputs": [
    {
     "name": "stdout",
     "output_type": "stream",
     "text": [
      "('example', 'text.It') 1\n",
      "('text.It', 'contains') 1\n",
      "('repeated', '.') 1\n",
      "('simple', 'text') 1\n",
      "('text', '.') 1\n"
     ]
    }
   ],
   "source": [
    "example_text =\"this is an example text.It contains some words and some of them are repeated. It is a simple text.\"\n",
    "result=get_frequent_bigrams(example_text,50)\n",
    "for bigram,frequency in result:\n",
    "    print(bigram,frequency)"
   ]
  }
 ],
 "metadata": {
  "kernelspec": {
   "display_name": "Python 3",
   "language": "python",
   "name": "python3"
  },
  "language_info": {
   "codemirror_mode": {
    "name": "ipython",
    "version": 3
   },
   "file_extension": ".py",
   "mimetype": "text/x-python",
   "name": "python",
   "nbconvert_exporter": "python",
   "pygments_lexer": "ipython3",
   "version": "3.11.1"
  }
 },
 "nbformat": 4,
 "nbformat_minor": 2
}
