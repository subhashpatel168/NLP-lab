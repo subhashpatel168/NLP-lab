{
 "cells": [
  {
   "cell_type": "code",
   "execution_count": 3,
   "metadata": {},
   "outputs": [
    {
     "name": "stdout",
     "output_type": "stream",
     "text": [
      " this is my sentence that starts and ends with whitespace  \n"
     ]
    }
   ],
   "source": [
    "import re\n",
    "sent=' this is my sentence that starts and ends with whitespace  '\n",
    "pattern = re.compile('^\\s/\\s$')\n",
    "sent= pattern.sub('',sent)\n",
    "print(sent)"
   ]
  },
  {
   "cell_type": "code",
   "execution_count": 3,
   "metadata": {},
   "outputs": [
    {
     "name": "stdout",
     "output_type": "stream",
     "text": [
      "this is an example text with extra whitespace.\n"
     ]
    }
   ],
   "source": [
    "sent=\"  this  is an  example   text with   extra  whitespace.   \"\n",
    "sent=sent.split(' ')\n",
    "sent=[word for word in sent if word]\n",
    "sent=' '.join(sent)\n",
    "print(sent) "
   ]
  }
 ],
 "metadata": {
  "kernelspec": {
   "display_name": "Python 3",
   "language": "python",
   "name": "python3"
  },
  "language_info": {
   "codemirror_mode": {
    "name": "ipython",
    "version": 3
   },
   "file_extension": ".py",
   "mimetype": "text/x-python",
   "name": "python",
   "nbconvert_exporter": "python",
   "pygments_lexer": "ipython3",
   "version": "3.11.1"
  }
 },
 "nbformat": 4,
 "nbformat_minor": 2
}
