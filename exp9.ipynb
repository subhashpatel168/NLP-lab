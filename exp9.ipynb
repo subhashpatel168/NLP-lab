{
 "cells": [
  {
   "cell_type": "code",
   "execution_count": 1,
   "metadata": {},
   "outputs": [],
   "source": [
    "import nltk\n",
    "from nltk.stem import PorterStemmer\n",
    "from nltk.tokenize import word_tokenize"
   ]
  },
  {
   "cell_type": "code",
   "execution_count": 8,
   "metadata": {},
   "outputs": [],
   "source": [
    "def apply_stemming (sentence):\n",
    "    words=word_tokenize(sentence)\n",
    "    porter_stemmer=PorterStemmer()\n",
    "    stemmed_words=[porter_stemmer.stem(word) for word in words]\n",
    "    stemmed_sentence=' '.join(stemmed_words)\n",
    "    return stemmed_sentence\n"
   ]
  },
  {
   "cell_type": "code",
   "execution_count": 9,
   "metadata": {},
   "outputs": [],
   "source": [
    "def main():\n",
    "    input_sentence=\"stemming is an important step in natural language processing.\"\n",
    "    stemmed_result=apply_stemming(input_sentence)\n",
    "    print(\"Original Sentence: \")\n",
    "    print(input_sentence)\n",
    "    print(\"\\n Stemmed Sentence: \")\n",
    "    print(stemmed_result)"
   ]
  },
  {
   "cell_type": "code",
   "execution_count": 10,
   "metadata": {},
   "outputs": [
    {
     "name": "stdout",
     "output_type": "stream",
     "text": [
      "Original Sentence: \n",
      "stemming is an important step in natural language processing.\n",
      "\n",
      " Stemmed Sentence: \n",
      "stem is an import step in natur languag process .\n"
     ]
    }
   ],
   "source": [
    "if __name__==\"__main__\":\n",
    "    main()"
   ]
  }
 ],
 "metadata": {
  "kernelspec": {
   "display_name": "Python 3",
   "language": "python",
   "name": "python3"
  },
  "language_info": {
   "codemirror_mode": {
    "name": "ipython",
    "version": 3
   },
   "file_extension": ".py",
   "mimetype": "text/x-python",
   "name": "python",
   "nbconvert_exporter": "python",
   "pygments_lexer": "ipython3",
   "version": "3.11.1"
  }
 },
 "nbformat": 4,
 "nbformat_minor": 2
}
